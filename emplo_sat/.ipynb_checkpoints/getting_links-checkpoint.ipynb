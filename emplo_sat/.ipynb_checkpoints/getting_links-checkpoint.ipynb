{
 "cells": [
  {
   "cell_type": "markdown",
   "id": "c00bf7b7-5549-4bce-a043-012e73a7f929",
   "metadata": {},
   "source": [
    "## The idea: \n",
    "First we will want to get all the links we want. Meaning that for each company and each region we want a base link. Other filters can simply be obtained from modifying these base links.\n"
   ]
  },
  {
   "cell_type": "markdown",
   "id": "57eebf23-9528-4fe2-98e7-1cda0deb991f",
   "metadata": {},
   "source": [
    "## Installing the necessary packages & driver\n",
    "As specific python packages we will need selenium which allow us to automate a webbrowser and beautifulsoup which is a classic html parser. This can easily be done with pip or conda. We are also going to need a driver which will be the browser we are going to automate. The links to install the driver can be found here: https://selenium-python.readthedocs.io/installation.html\n",
    "\n",
    "Note: Be careful to install the driver and the version corresponding to your working browser. To know what google version you are using go to help>about google chrome "
   ]
  },
  {
   "cell_type": "markdown",
   "id": "a7d158ac-6b66-4142-98bc-23531bb32269",
   "metadata": {},
   "source": [
    "## Setup"
   ]
  },
  {
   "cell_type": "code",
   "execution_count": 1,
   "id": "ee16bfaf-348f-4ed1-8396-dfa5ec51b10c",
   "metadata": {},
   "outputs": [],
   "source": [
    "# Imports\n",
    "from selenium import webdriver\n",
    "from bs4 import BeautifulSoup\n",
    "from selenium.webdriver.common.keys import Keys\n",
    "from selenium.common.exceptions import NoSuchElementException, ElementClickInterceptedException, ElementNotInteractableException, WebDriverException\n",
    "\n",
    "import logging\n",
    "import re\n",
    "import random\n",
    "import time\n",
    "import pandas as pd\n",
    "from openpyxl import load_workbook"
   ]
  },
  {
   "cell_type": "code",
   "execution_count": 2,
   "id": "9b63d18c-807c-44cb-ab83-7ad3ad2e78ef",
   "metadata": {},
   "outputs": [],
   "source": [
    "# # For logging\n",
    "# logger = logging.getLogger()\n",
    "# fhandler = logging.FileHandler(filename='links.log', mode='a')\n",
    "# formatter = logging.Formatter('%(asctime)s - %(name)s - %(levelname)s - %(message)s')\n",
    "# fhandler.setFormatter(formatter)\n",
    "# logger.addHandler(fhandler)\n",
    "# logger.setLevel(logging.DEBUG)"
   ]
  },
  {
   "cell_type": "code",
   "execution_count": 3,
   "id": "60398f32-d1b8-4080-8944-333607d2d6ae",
   "metadata": {},
   "outputs": [],
   "source": [
    "def get_status():\n",
    "    \"\"\"\n",
    "    Reads the excel with the company names, links, modified links, how many options there were at search\n",
    "    and how much has been scraped yetand returns those different lists\n",
    "    \"\"\"\n",
    "    wb = load_workbook('status.xlsx')\n",
    "    sheet = wb.worksheets[0]\n",
    "    companies = sheet['A']\n",
    "    number_options = sheet['B']\n",
    "    links = sheet['C']\n",
    "    links_filtered = sheet['D']\n",
    "    pages = sheet['E']\n",
    "    \n",
    "    return companies, number_options, links, links_filtered, pages"
   ]
  },
  {
   "cell_type": "code",
   "execution_count": 4,
   "id": "d6d4cdb3-daea-4b92-b3ef-c0ddb0fe16a1",
   "metadata": {},
   "outputs": [],
   "source": [
    "def cells_to_list(cells):\n",
    "    \"\"\"\n",
    "    Convert openpyxl format cells to strings\n",
    "    \"\"\"\n",
    "    cells_list = []\n",
    "    for cell in cells:\n",
    "        cells_list.append(cell.value)\n",
    "    return cells_list"
   ]
  },
  {
   "cell_type": "code",
   "execution_count": 5,
   "id": "847b0585-f8cc-436a-b460-4630be498d54",
   "metadata": {},
   "outputs": [],
   "source": [
    "def get_rid_overlay(driver):\n",
    "    \"\"\"\n",
    "    Sometimes the site shows an overlay that cannot be removed by clicking, which blocks interaction with the site,\n",
    "    this is some code to remove it.\n",
    "    \"\"\"\n",
    "    driver.execute_script(\"\"\"\n",
    "        javascript:(function(){\n",
    "          document.getElementsByClassName('hardsellOverlay')[0].remove();\n",
    "          document.getElementsByTagName(\"body\")[0].style.overflow = \"scroll\";\n",
    "          let style = document.createElement('style');\n",
    "          style.innerHTML = `\n",
    "            #LoginModal {\n",
    "              display: none!important;\n",
    "            }\n",
    "          `;\n",
    "          document.head.appendChild(style);\n",
    "          window.addEventListener(\"scroll\", function (event) {\n",
    "            event.stopPropagation();\n",
    "          }, true);\n",
    "        })();\n",
    "        \"\"\")\n",
    "    return driver"
   ]
  },
  {
   "cell_type": "code",
   "execution_count": 6,
   "id": "ab71491e-458a-428c-92fd-97c6d2ff1f5f",
   "metadata": {},
   "outputs": [],
   "source": [
    "def setup_driver_to_reviews_search():\n",
    "    \"\"\"\n",
    "    Launches driver, sets window size and implicit wait\n",
    "    \"\"\"\n",
    "    driver = webdriver.Chrome('/Users/corentin/OneDrive - Universite de Liege/chromedriver')\n",
    "    time.sleep(3)\n",
    "    driver.implicitly_wait(20)\n",
    "    driver.get('https://www.glassdoor.com/Reviews/index.htm')\n",
    "    driver.set_window_size(1280, 800)\n",
    "    \n",
    "    logging.info('Driver succesfully setup')\n",
    "    return driver"
   ]
  },
  {
   "cell_type": "code",
   "execution_count": 7,
   "id": "572e4117-3db6-4100-9c2c-7c51e5f16402",
   "metadata": {},
   "outputs": [],
   "source": [
    "# Set site language to us\n",
    "\n",
    "def set_site_language(driver):\n",
    "    time.sleep(random.uniform(2, 4))\n",
    "    # Scroll to the bottom of the page\n",
    "    driver.execute_script('window.scrollTo(0, document.body.scrollHeight)')\n",
    "    time.sleep(random.uniform(2, 4))\n",
    "    \n",
    "    # Find the box for language choice and click on it\n",
    "    language_choice = driver.find_element_by_xpath('//*[@id=\"Footer\"]/nav/ul[2]/li[3]/div/div/div[1]')\n",
    "    language_choice.click()\n",
    "    \n",
    "    # Parse the html of the page and find the choices of language, click on united states\n",
    "    soup = BeautifulSoup(driver.page_source, 'lxml')\n",
    "    language_click_box = soup.find('div', class_='dropdownOptions dropdownExpanded animated above')\n",
    "    for li in language_click_box.find_all('li'):\n",
    "        country = li.find_all('span')[1].string\n",
    "        if country == 'United States':\n",
    "            us_id = li.get('id')\n",
    "            break\n",
    "    us = driver.find_element_by_id(us_id)\n",
    "    time.sleep(random.uniform(2, 4))\n",
    "    us.click()\n",
    "    time.sleep(random.uniform(2, 4))\n",
    "    \n",
    "    logging.info('Website succesfully put in english')\n",
    "    return driver"
   ]
  },
  {
   "cell_type": "markdown",
   "id": "cea79c39-931e-4fa3-9786-102258e73e08",
   "metadata": {
    "tags": []
   },
   "source": [
    "## Looking for the companies"
   ]
  },
  {
   "cell_type": "code",
   "execution_count": 8,
   "id": "43f00e51-2a23-40f3-b1ec-5b7c48827e18",
   "metadata": {},
   "outputs": [],
   "source": [
    "def search_company(company, driver):\n",
    "    \"\"\"\n",
    "    Searches the name of a company in the search bar, clicks on the first results and also returns\n",
    "    how many results there were\n",
    "    \"\"\"\n",
    "    #Searches the company in the search bar\n",
    "    company_search_bar = driver.find_element_by_xpath('//*[@id=\"KeywordSearch\"]')\n",
    "    company_search_bar.send_keys(company)\n",
    "    time.sleep(random.uniform(2, 4))\n",
    "    location_search_bar = driver.find_element_by_xpath('//*[@id=\"LocationSearch\"]')\n",
    "    location_search_bar.clear()\n",
    "    time.sleep(random.uniform(2, 4))\n",
    "    company_search_bar.send_keys(Keys.ENTER)\n",
    "    time.sleep(random.uniform(2, 4))\n",
    "    \n",
    "    #Result of the search: either directly on a page or given choices or no results\n",
    "    try: #If falls on page with multiple choices\n",
    "        soup = BeautifulSoup(driver.page_source, 'lxml')\n",
    "        div_number = soup.find('div', class_='pb-lg-xxl pb-std')\n",
    "        number = div_number.find_all('strong')[-1].text\n",
    "        first_result = driver.find_element_by_xpath('//*[@id=\"MainCol\"]/div/div[1]/div/div[1]/div/div[2]/h2/a')\n",
    "        first_result.click()\n",
    "        time.sleep(random.uniform(2, 4))\n",
    "        soup = BeautifulSoup(driver.page_source, 'lxml')\n",
    "        reviews_tag = soup.find('a', {'data-test': 'reviewSeeAllLink'})\n",
    "        url_path = reviews_tag.get('href')\n",
    "        domain = 'https://www.glassdoor.com'\n",
    "        reviews_url = domain + url_path\n",
    "    except AttributeError: \n",
    "        try: #If falls on page directly\n",
    "            time.sleep(random.uniform(2, 4))\n",
    "            soup = BeautifulSoup(driver.page_source, 'lxml')\n",
    "            reviews_tag = soup.find('a', {'data-test': 'reviewSeeAllLink'})\n",
    "            url_path = reviews_tag.get('href')\n",
    "            domain = 'https://www.glassdoor.com'\n",
    "            reviews_url = domain + url_path\n",
    "            number = '1'\n",
    "        except: #If no results\n",
    "            reviews_url = '/'\n",
    "            number = '/'\n",
    "\n",
    "    time.sleep(random.uniform(2, 4))\n",
    "\n",
    "    return driver, number, reviews_url"
   ]
  },
  {
   "cell_type": "code",
   "execution_count": null,
   "id": "d0746056-8d69-46c5-afe6-cde12c024fd7",
   "metadata": {},
   "outputs": [],
   "source": []
  },
  {
   "cell_type": "code",
   "execution_count": null,
   "id": "109cc4c9-9dbf-4f64-84f8-93cbc51f2f44",
   "metadata": {},
   "outputs": [],
   "source": []
  },
  {
   "cell_type": "markdown",
   "id": "51828452-fc67-41dd-9cce-502cad7a6c75",
   "metadata": {},
   "source": [
    "## Flow\n",
    "1) Read the excel and get the data in lists\n",
    "2) Setup the driver and put the site in english\n",
    "3) Loop over the companies, if the scraper has already tried to get a link, skip. Otherwise, try. Update the excel at each try."
   ]
  },
  {
   "cell_type": "code",
   "execution_count": 9,
   "id": "e17bdc75-c40c-4de5-b308-df17c74d7d3a",
   "metadata": {},
   "outputs": [],
   "source": [
    "companies_cells, number_options_cells, links_cells, links_filtered_cells, pages_cells = get_status()"
   ]
  },
  {
   "cell_type": "code",
   "execution_count": 10,
   "id": "1b3c83bd-f505-4866-8248-32d2beb30bfb",
   "metadata": {},
   "outputs": [],
   "source": [
    "companies = cells_to_list(companies_cells)\n",
    "number_options = cells_to_list(number_options_cells)\n",
    "links = cells_to_list(links_cells)\n",
    "links_filtered = cells_to_list(links_filtered_cells)\n",
    "pages = cells_to_list(pages_cells)"
   ]
  },
  {
   "cell_type": "code",
   "execution_count": 11,
   "id": "d405ff83-0582-42fb-8181-bff9f10ef1f2",
   "metadata": {},
   "outputs": [
    {
     "name": "stderr",
     "output_type": "stream",
     "text": [
      "Driver succesfully setup\n"
     ]
    }
   ],
   "source": [
    "driver = setup_driver_to_reviews_search()"
   ]
  },
  {
   "cell_type": "code",
   "execution_count": 12,
   "id": "dbda5eee-2517-49a0-883b-617731fd36d7",
   "metadata": {},
   "outputs": [
    {
     "name": "stderr",
     "output_type": "stream",
     "text": [
      "Website succesfully put in english\n"
     ]
    }
   ],
   "source": [
    "driver = set_site_language(driver)"
   ]
  },
  {
   "cell_type": "code",
   "execution_count": null,
   "id": "616a91e9-d902-4013-ae66-db216cec7472",
   "metadata": {},
   "outputs": [],
   "source": [
    "wb = load_workbook('status.xlsx')\n",
    "sheet = wb.worksheets[0]\n",
    "for i in range(len(companies)):\n",
    "    if links[i] == '_':\n",
    "        driver.get('https://www.glassdoor.com/Reviews/index.htm')\n",
    "        driver, number_options[i], links[i] = search_company(companies[i], driver)\n",
    "        sheet.cell(row=i+1, column=2).value=number_options[i]\n",
    "        sheet.cell(row=i+1, column=3).value=links[i]\n",
    "        wb.save('status.xlsx')\n",
    "    else:\n",
    "        continue"
   ]
  },
  {
   "cell_type": "code",
   "execution_count": null,
   "id": "e67fbe51-96bd-4161-bdb7-dbfd7df39b57",
   "metadata": {},
   "outputs": [],
   "source": []
  },
  {
   "cell_type": "code",
   "execution_count": null,
   "id": "e1650521-5045-48c4-9446-ebb55a11f49b",
   "metadata": {},
   "outputs": [],
   "source": []
  },
  {
   "cell_type": "code",
   "execution_count": null,
   "id": "a77d72ae-c181-4a3c-93a6-1a68dfef50b9",
   "metadata": {},
   "outputs": [],
   "source": []
  },
  {
   "cell_type": "code",
   "execution_count": null,
   "id": "6f3e1d18-439f-403a-bf89-9441e8d81b0e",
   "metadata": {},
   "outputs": [],
   "source": []
  },
  {
   "cell_type": "code",
   "execution_count": null,
   "id": "764b743b-e0dc-46c0-b0b1-4c495270c812",
   "metadata": {},
   "outputs": [],
   "source": [
    "# # If need to specify location\n",
    "# def get_url_by_location(locations, driver):\n",
    "#     \"\"\"\n",
    "#     Adjusts window size because otherwise no scrolling possible\n",
    "#     Selects a location and returns url of the page\n",
    "#     \"\"\"\n",
    "#     driver.set_window_size(1384, 789)\n",
    "#     time.sleep(random.uniform(2, 4))\n",
    "    \n",
    "#     urls = {}\n",
    "#     for location in locations:\n",
    "#         time.sleep(random.uniform(2, 4))\n",
    "#         driver.execute_script(\"window.scrollBy(0, arguments[0]);\", 500)\n",
    "\n",
    "#         filter_button = driver.find_element_by_xpath('//*[@id=\"MainContent\"]/div/div[1]/div[1]/div[1]/div/div[1]/div[2]/div[2]/button/span')\n",
    "#         filter_button.click()\n",
    "#         time.sleep(random.uniform(2, 3))\n",
    "\n",
    "#         location_box = driver.find_element_by_xpath('//*[@id=\"MainContent\"]/div/div[1]/div[1]/div[1]/div/div[1]/div[3]/div[2]/div[1]/div/div[1]')\n",
    "#         location_box.click()\n",
    "#         time.sleep(random.uniform(2, 3))\n",
    "\n",
    "#         location_input = driver.find_element_by_xpath('//*[@id=\"MainContent\"]/div/div[1]/div[1]/div[1]/div/div[1]/div[3]/div[2]/div[1]/div/div[1]/div/div/div/input')\n",
    "#         location_input.send_keys(location)\n",
    "#         time.sleep(random.uniform(1, 2))\n",
    "#         location_input.send_keys(Keys.ARROW_DOWN)\n",
    "#         time.sleep(random.uniform(1, 2))\n",
    "#         location_input.send_keys(Keys.ENTER)\n",
    "\n",
    "#         time.sleep(random.uniform(2, 4))\n",
    "#         urls[location] = driver.current_url\n",
    "#         driver = get_rid_overlay(driver)\n",
    "    \n",
    "#     return driver, urls"
   ]
  }
 ],
 "metadata": {
  "kernelspec": {
   "display_name": "Python 3 (ipykernel)",
   "language": "python",
   "name": "python3"
  },
  "language_info": {
   "codemirror_mode": {
    "name": "ipython",
    "version": 3
   },
   "file_extension": ".py",
   "mimetype": "text/x-python",
   "name": "python",
   "nbconvert_exporter": "python",
   "pygments_lexer": "ipython3",
   "version": "3.9.7"
  }
 },
 "nbformat": 4,
 "nbformat_minor": 5
}
