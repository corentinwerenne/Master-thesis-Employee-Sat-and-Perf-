{
 "cells": [
  {
   "cell_type": "code",
   "execution_count": 14,
   "id": "57872abb-d487-4848-b12d-a03fc221a193",
   "metadata": {},
   "outputs": [],
   "source": [
    "import pandas as pd\n",
    "import os\n",
    "import re"
   ]
  },
  {
   "cell_type": "code",
   "execution_count": 2,
   "id": "91a9a3b9-f2ee-4e37-8928-846d3a2856aa",
   "metadata": {},
   "outputs": [
    {
     "data": {
      "text/plain": [
       "'\\nTODO:\\nCollect names of all csv files for reviews\\nFor each of them, associate them to the orbis name\\nOpen every csv in pandas, add a column name to put the orbis name and merge them\\nto a single big dataframe\\n'"
      ]
     },
     "execution_count": 2,
     "metadata": {},
     "output_type": "execute_result"
    }
   ],
   "source": [
    "\"\"\"\n",
    "TODO:\n",
    "Collect names of all csv files for reviews\n",
    "For each of them, associate them to the orbis name\n",
    "Open every csv in pandas, add a column name to put the orbis name and merge them\n",
    "to a single big dataframe\n",
    "\"\"\""
   ]
  },
  {
   "cell_type": "code",
   "execution_count": 67,
   "id": "1229eca5-c83d-4752-a268-76cb98d330d4",
   "metadata": {},
   "outputs": [],
   "source": [
    "# Collect names of all csv files for reviews\n",
    "csv_files = [file for file in os.listdir('reviews') if file.endswith('.csv')]"
   ]
  },
  {
   "cell_type": "code",
   "execution_count": 68,
   "id": "333032be-2b64-403d-979c-018a42cb1bff",
   "metadata": {},
   "outputs": [],
   "source": [
    "# Associate simplified orbis name to file\n",
    "file_to_pre = {}\n",
    "for csv in csv_files:\n",
    "    match = re.match(r'(.+?)\\_\\d+.csv$', csv)\n",
    "    if match:\n",
    "        file_to_pre[csv] = match.group(1)"
   ]
  },
  {
   "cell_type": "code",
   "execution_count": 69,
   "id": "7a95072d-cb9f-4e73-a22e-35c0cf447c13",
   "metadata": {},
   "outputs": [],
   "source": [
    "# Associated simplified orbis name to full orbis name\n",
    "df_orbis = pd.read_csv('orbis_clean.csv')"
   ]
  },
  {
   "cell_type": "code",
   "execution_count": 70,
   "id": "746d5d4d-df0b-4965-b2a4-1b1e14f8b172",
   "metadata": {},
   "outputs": [],
   "source": [
    "def simplify(orbis_name):\n",
    "    return orbis_name.replace('.', '').replace(' ', '').replace('/', '')"
   ]
  },
  {
   "cell_type": "code",
   "execution_count": 71,
   "id": "06ad8619-eeba-4010-9f03-355cf73b9b00",
   "metadata": {},
   "outputs": [],
   "source": [
    "file_to_orbis = {}\n",
    "for file, pre in file_to_pre.items():\n",
    "    for name in df_orbis['name']:\n",
    "        if name == pre or simplify(name) == pre:\n",
    "            file_to_orbis[file] = name"
   ]
  },
  {
   "cell_type": "code",
   "execution_count": 111,
   "id": "3dcde51b-0408-433b-acf6-47a09125b9dd",
   "metadata": {},
   "outputs": [],
   "source": [
    "# Open all csv, add orbis_name column and merge them all together\n",
    "def addOrbisName(df, orbis_name):\n",
    "    df['orbis_name'] = orbis_name\n",
    "    return df"
   ]
  },
  {
   "cell_type": "code",
   "execution_count": 119,
   "id": "30f470a2-7de1-47a9-a9f7-e2fe26962ef6",
   "metadata": {},
   "outputs": [
    {
     "name": "stdout",
     "output_type": "stream",
     "text": [
      "PLAVALAGUNADD_1.csv! is empty !}\n",
      "VICAT_1.csv! is empty !}\n",
      "ENISPA_1.csv! is empty !}\n",
      "HERASPA_1.csv! is empty !}\n",
      "BRIDGEPOINTGROUPPLC_1.csv! is empty !}\n",
      "COMPAGNIEFINANCIERERICHEMONTSA_50.csv! is empty !}\n",
      "SHAFTESBURYPLC_1.csv! is empty !}\n",
      "ABVOLVO_150.csv! is empty !}\n",
      "ATLASCOPCOAB_100.csv! is empty !}\n",
      "THGPLC_150.csv! is empty !}\n",
      "NEXTPLC_151.csv! is empty !}\n",
      "SOFTCATPLC_1.csv! is empty !}\n",
      "NATIONALGRIDPLC_1.csv! is empty !}\n",
      "ALSTOMSA_200.csv! is empty !}\n",
      "NHHOTELGROUP,SA_1.csv! is empty !}\n",
      "SIEMENSAG_151.csv! is empty !}\n",
      "SUBSEA7SA_1.csv! is empty !}\n",
      "NORSKHYDROASA_1.csv! is empty !}\n",
      "DANONE_150.csv! is empty !}\n"
     ]
    }
   ],
   "source": [
    "dfs = []\n",
    "for file, orbis_name in file_to_orbis.items():\n",
    "    try:\n",
    "        df = pd.read_csv('reviews/' + file)\n",
    "        df = addOrbisName(df, orbis_name)\n",
    "        dfs.append(df)\n",
    "    except pd.errors.EmptyDataError:\n",
    "        print(file + '! is empty !}')\n",
    "\n",
    "all_df = pd.concat(dfs, ignore_index=True)    "
   ]
  },
  {
   "cell_type": "code",
   "execution_count": 124,
   "id": "13fa7f45-0b5d-41a8-90a1-c3aa24f67f5d",
   "metadata": {},
   "outputs": [],
   "source": [
    "all_df.to_csv('reviews/all_df.csv')"
   ]
  }
 ],
 "metadata": {
  "kernelspec": {
   "display_name": "Python 3",
   "language": "python",
   "name": "python3"
  },
  "language_info": {
   "codemirror_mode": {
    "name": "ipython",
    "version": 3
   },
   "file_extension": ".py",
   "mimetype": "text/x-python",
   "name": "python",
   "nbconvert_exporter": "python",
   "pygments_lexer": "ipython3",
   "version": "3.9.12"
  }
 },
 "nbformat": 4,
 "nbformat_minor": 5
}
