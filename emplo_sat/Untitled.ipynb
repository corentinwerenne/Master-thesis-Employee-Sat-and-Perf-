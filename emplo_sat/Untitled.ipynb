{
 "cells": [
  {
   "cell_type": "code",
   "execution_count": 6,
   "id": "c0f8e824-aaec-47b8-9fc9-dee0de1e13c7",
   "metadata": {},
   "outputs": [
    {
     "name": "stdout",
     "output_type": "stream",
     "text": [
      "Healthcare / Drug Manufacturers—General\n"
     ]
    }
   ],
   "source": [
    "import yfinance as yf\n",
    "\n",
    "# Define the ticker you want to query\n",
    "ticker = 'MRK'\n",
    "\n",
    "# Use the yfinance library to get the GICS classification for the ticker\n",
    "info = yf.Ticker(ticker).info\n",
    "gics_classification = info['sector'] + ' / ' + info['industry']\n",
    "\n",
    "# Print the GICS classification\n",
    "print(gics_classification)"
   ]
  },
  {
   "cell_type": "code",
   "execution_count": null,
   "id": "4cf17865-a201-403a-b336-256a0655e474",
   "metadata": {},
   "outputs": [],
   "source": []
  }
 ],
 "metadata": {
  "kernelspec": {
   "display_name": "Python 3",
   "language": "python",
   "name": "python3"
  },
  "language_info": {
   "codemirror_mode": {
    "name": "ipython",
    "version": 3
   },
   "file_extension": ".py",
   "mimetype": "text/x-python",
   "name": "python",
   "nbconvert_exporter": "python",
   "pygments_lexer": "ipython3",
   "version": "3.9.12"
  }
 },
 "nbformat": 4,
 "nbformat_minor": 5
}
